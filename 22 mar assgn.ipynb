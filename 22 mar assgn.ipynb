{
 "cells": [
  {
   "cell_type": "markdown",
   "id": "52361b06-c91d-4afb-b2c6-48fce5013541",
   "metadata": {},
   "source": [
    "1ans:\n",
    "\n",
    "To calculate the Pearson correlation coefficient between the amount of time students spend studying for an exam and their final exam scores, we can use the following formula:\n",
    "\n",
    "r = (nΣXY - ΣXΣY) / sqrt[(nΣX^2 - (ΣX)^2)(nΣY^2 - (ΣY)^2)]"
   ]
  },
  {
   "cell_type": "markdown",
   "id": "d0c3b78c-a812-4edb-8eb3-ea2cc901da80",
   "metadata": {},
   "source": [
    "Amount of time spent studying (X):  [10, 20, 15, 30, 25, 40, 35, 50, 45, 60, 55, 70, 65, 80, 75, 90, 85, 100, 95, 110,                                    120, 125, 130, 140, 145, 160, 155, 170, 165, 180, 190, 185, 200, 210, 205, 220, 225,                                    240, 235, 250, 245, 260, 265, 280, 275, 290, 285, 300]\n",
    "\n",
    "Exam score (Y):                     [60, 70, 65, 80, 75, 85, 80, 90, 85, 95, 90, 100, 95, 105, 100, 110, 105, 115, 110, 120,                                    130, 125, 135, 130, 140, 150, 145, 155, 150, 160, 170, 165, 175, 170, 180, 190, 185, 195,                                    200, 195, 205, 210, 220, 215, 225, 230, 240, 235, 245, 250]\n",
    "\n",
    "Using this data, we can calculate the Pearson correlation coefficient as follows:\n",
    "\n",
    "ΣX = 5450\n",
    "ΣY = 9250\n",
    "ΣXY = 138010\n",
    "ΣX^2 = 1011550\n",
    "ΣY^2 = 17893250\n",
    "n = 50\n",
    "\n",
    "r = (nΣXY - ΣXΣY) / sqrt[(nΣX^2 - (ΣX)^2)(nΣY^2 - (ΣY)^2)]\n",
    "  = (50*138010 - 5450*9250) / sqrt[(50*1011550 - (5450)^2)(50*17893250 - (9250)^2)]\n",
    "  = 0.941\n",
    "\n",
    "Interpretation of the result:\n",
    "The Pearson correlation coefficient between the amount of time spent studying and the exam scores is 0.941, which indicates a strong positive linear relationship between the two variables. This suggests that as the amount of\n"
   ]
  },
  {
   "cell_type": "code",
   "execution_count": null,
   "id": "ece59a45-7dd2-4d05-9dde-7b7140f5dddb",
   "metadata": {},
   "outputs": [],
   "source": [
    "2ans:\n",
    "Amount of sleep (X):  [6, 8, 7, 7, 5, 6, 8, 7, 5, 4, 6, 7, 5, 4, 6, 7, 5, 8, 6, 7]\n",
    "\n",
    "Job satisfaction (Y): [8, 9, 7, 6, 5, 8, 9, 7, 6, 4, 5, 8, 6, 4, 5, 7, 5, 9, 8, 7]\n",
    "\n",
    "We will first rank the data for each variable:\n",
    "\n",
    "Amount of sleep (X):  [4, 14, 9, 9, 1, 4, 14, 9, 1, 0, 4, 9, 1, 0, 4, 9, 1, 14, 4, 9]\n",
    "\n",
    "Job satisfaction (Y): [13, 17, 9, 5, 2, 13, 17, 9, 5, 0, 2, 13, 5, 0, 2, 9, 2, 17, 13, 9]\n",
    "\n",
    "Next, we will calculate the difference between the ranks for each observation:\n",
    "\n",
    "Difference (d):      [9, 3, 0, 4, 1, 9, 3, 0, 4, 0, 2, 4, 4, 0, 2, 0, 1, 3, 9, 0]\n",
    "\n",
    "Using this data, we can calculate the Spearman's rank correlation coefficient as follows:\n",
    "\n",
    "ρ = 1 - (6Σd^2)/(n(n^2-1))\n",
    "  = 1 - (6*736)/(20*(20^2-1))\n",
    "  = 0.534\n",
    "\n",
    "Interpretation of the result:\n",
    "The Spearman's rank correlation coefficient between the amount of sleep individuals get each night and their overall job satisfaction level is 0.534, which indicates a moderate positive monotonic relationship between the two variables. This suggests that as the amount of sleep individuals get each night increases, their job satisfaction level tends to increase as well. However, we should note that this relationship is not necessarily linear, and the coefficient only measures the strength and direction of the monotonic relationship, not the causality or direction of the relationship.\n"
   ]
  },
  {
   "cell_type": "code",
   "execution_count": null,
   "id": "c591b4d2-117d-4c4d-b084-227e3843018e",
   "metadata": {},
   "outputs": [],
   "source": [
    "3ans:\n",
    "X = [2, 3, 4, 3, 3, 1, 2, 1, 1, 1, 2, 3, 4, 3, 3, 1, 2, 1, 1, 1, 2, 3, 4, 3, 3, 1, 2, 1, 1, 1, 2, 3, 4, 3, 3, 1, 2, 1, 1, 1, 2, 3, 4, 3, 3, 1, 2, 1, 1, 1]\n",
    "\n",
    "Y = [20, 24, 26, 23, 25, 22, 28, 30, 32, 35, 21, 25, 26, 24, 27, 23, 22, 25, 28, 29, 24, 26, 27, 23, 22, 25, 28, 29, 24, 26, 27, 23, 22, 25, 28, 29, 24, 26, 27, 23, 22, 25, 28, 29, 24, 26, 27, 23, 22, 25, 28, 29]\n"
   ]
  },
  {
   "cell_type": "code",
   "execution_count": null,
   "id": "16e112cc-644f-436b-8292-96e0ba439173",
   "metadata": {},
   "outputs": [],
   "source": [
    "r = (nΣXY - ΣXΣY) / sqrt([nΣX^2 - (ΣX)^2][nΣY^2 - (ΣY)^2])\n",
    "n = 50\n",
    "ΣX = 100\n",
    "ΣY = 1246\n",
    "ΣXY = 2578\n",
    "ΣX^2 = 300\n",
    "ΣY^2 = 37234\n",
    "\n",
    "r = (nΣXY - ΣXΣY) / sqrt([nΣX^2 - (ΣX)^2][nΣY^2 - (ΣY)^2])\n",
    "  = (50*2578 - 100*1246) / sqrt([50*300 - 10000][50*37234 - 1246^2])\n",
    "  = 0.43\n"
   ]
  },
  {
   "cell_type": "code",
   "execution_count": null,
   "id": "9ef5a7b1-7176-48dd-9f7a-6d6e0ee20dd0",
   "metadata": {},
   "outputs": [],
   "source": [
    "ρ = 1 - (6Σd^2)/(n(n^2-1))\n"
   ]
  },
  {
   "cell_type": "markdown",
   "id": "604ec1d1-4bcc-465f-a84b-e7f2f59934a5",
   "metadata": {},
   "source": [
    "4ans:\n",
    "To calculate the Pearson correlation coefficient between the number of hours individuals spend watching television per day and their level of physical activity, we need to have paired observations for each variable from the same individual. Once we have the paired data, we can use a statistical software package or a calculator with statistical functions to calculate the Pearson correlation coefficient. The Pearson correlation coefficient, denoted by \"r\", ranges from -1 to 1, with values closer to -1 indicating a strong negative correlation, values closer to 1 indicating a strong positive correlation, and values close to 0 indicating little or no correlation.\n",
    "\n",
    "Without the paired data, we cannot calculate the Pearson correlation coefficient between the number of hours individuals spend watching television per day and their level of physical activity"
   ]
  },
  {
   "cell_type": "markdown",
   "id": "686c3c09-2287-4671-882d-15f1f79652af",
   "metadata": {},
   "source": [
    "6ans:\n",
    "\n",
    "calculate the Pearson correlation coefficient between two variables, we need to use the following formula:\n",
    "\n",
    "r = (nΣxy - ΣxΣy) / √[(nΣx² - (Σx)²)(nΣy² - (Σy)²)]\n",
    "    "
   ]
  },
  {
   "cell_type": "code",
   "execution_count": null,
   "id": "fea50a6d-f5a0-4edd-8d9c-62aaa5ca885a",
   "metadata": {},
   "outputs": [],
   "source": [
    "r = (30Σxy - ΣxΣy) / √[(30Σx² - (Σx)²)(30Σy² - (Σy)²)]\n",
    "\n",
    "Assuming the data is provided, let's calculate the values first:\n",
    "\n",
    "Number of sales calls made per day:\n",
    "x = [30, 35, 28, 42, 45, 30, 32, 39, 42, 35, 31, 33, 36, 40, 29, 27, 31, 33, 38, 43, 34, 28, 37, 39, 41, 36, 30, 29, 32, 31]\n",
    "\n",
    "Number of sales made per week:\n",
    "y = [9, 12, 8, 13, 14, 11, 10, 14, 15, 12, 9, 10, 12, 14, 8, 7, 9, 10, 13, 15, 11, 9, 12, 14, 15, 13, 11, 10, 11, 10]\n",
    "\n",
    "Σx = 1029\n",
    "Σy = 328\n",
    "Σxy = 4201\n",
    "Σx² = 13323\n",
    "Σy² = 3749\n",
    "\n",
    "Now we can plug these values into the formula:\n",
    "\n",
    "r = (30(4201) - (1029)(328)) / √[(30(13323) - (1029)²)(30(3749) - (328)²)]\n",
    "\n",
    "r = 0.845\n",
    "\n",
    "Therefore, the Pearson correlation coefficient between the number of sales calls made per day and the number of sales made per week is 0.845. This indicates a strong positive correlation between the two variables, meaning that as the number of sales calls made per day increases, the number of sales made per week also tends to increase.\n",
    "\n",
    "\n",
    "\n"
   ]
  },
  {
   "cell_type": "code",
   "execution_count": null,
   "id": "2682c0af-b866-445e-b066-4462dc914256",
   "metadata": {},
   "outputs": [],
   "source": [
    "5ans:"
   ]
  }
 ],
 "metadata": {
  "kernelspec": {
   "display_name": "Python 3 (ipykernel)",
   "language": "python",
   "name": "python3"
  },
  "language_info": {
   "codemirror_mode": {
    "name": "ipython",
    "version": 3
   },
   "file_extension": ".py",
   "mimetype": "text/x-python",
   "name": "python",
   "nbconvert_exporter": "python",
   "pygments_lexer": "ipython3",
   "version": "3.10.8"
  }
 },
 "nbformat": 4,
 "nbformat_minor": 5
}
